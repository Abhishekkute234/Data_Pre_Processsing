{
 "cells": [
  {
   "cell_type": "markdown",
   "id": "be48888a-6bd8-4367-9724-2a790b7b15f1",
   "metadata": {},
   "source": [
    "# Data type Transformation"
   ]
  },
  {
   "cell_type": "code",
   "execution_count": 3,
   "id": "0f036343-cede-4a83-ab76-6d43a7ae1f8f",
   "metadata": {},
   "outputs": [
    {
     "data": {
      "text/html": [
       "<div>\n",
       "<style scoped>\n",
       "    .dataframe tbody tr th:only-of-type {\n",
       "        vertical-align: middle;\n",
       "    }\n",
       "\n",
       "    .dataframe tbody tr th {\n",
       "        vertical-align: top;\n",
       "    }\n",
       "\n",
       "    .dataframe thead th {\n",
       "        text-align: right;\n",
       "    }\n",
       "</style>\n",
       "<table border=\"1\" class=\"dataframe\">\n",
       "  <thead>\n",
       "    <tr style=\"text-align: right;\">\n",
       "      <th></th>\n",
       "      <th>Transaction ID</th>\n",
       "      <th>Date</th>\n",
       "      <th>Product Category</th>\n",
       "      <th>Product Name</th>\n",
       "      <th>Units Sold</th>\n",
       "      <th>Unit Price</th>\n",
       "      <th>Total Revenue</th>\n",
       "      <th>Region</th>\n",
       "      <th>Payment Method</th>\n",
       "    </tr>\n",
       "  </thead>\n",
       "  <tbody>\n",
       "    <tr>\n",
       "      <th>0</th>\n",
       "      <td>10001.0</td>\n",
       "      <td>01-01-2024</td>\n",
       "      <td>NaN</td>\n",
       "      <td>iPhone 14 Pro</td>\n",
       "      <td>2</td>\n",
       "      <td>999.99</td>\n",
       "      <td>1999.98</td>\n",
       "      <td>North America</td>\n",
       "      <td>Credit Card</td>\n",
       "    </tr>\n",
       "    <tr>\n",
       "      <th>1</th>\n",
       "      <td>10002.0</td>\n",
       "      <td>02-01-2024</td>\n",
       "      <td>Home Appliances</td>\n",
       "      <td>Dyson V11 Vacuum</td>\n",
       "      <td>1</td>\n",
       "      <td>499.99</td>\n",
       "      <td>499.99</td>\n",
       "      <td>Europe</td>\n",
       "      <td>PayPal</td>\n",
       "    </tr>\n",
       "    <tr>\n",
       "      <th>2</th>\n",
       "      <td>10003.0</td>\n",
       "      <td>03-01-2024</td>\n",
       "      <td>Clothing</td>\n",
       "      <td>Levi's 501 Jeans</td>\n",
       "      <td>3</td>\n",
       "      <td>69.99</td>\n",
       "      <td>209.97</td>\n",
       "      <td>Asia</td>\n",
       "      <td>Debit Card</td>\n",
       "    </tr>\n",
       "    <tr>\n",
       "      <th>3</th>\n",
       "      <td>10004.0</td>\n",
       "      <td>04-01-2024</td>\n",
       "      <td>Books</td>\n",
       "      <td>The Da Vinci Code</td>\n",
       "      <td>4</td>\n",
       "      <td>15.99</td>\n",
       "      <td>63.96</td>\n",
       "      <td>North America</td>\n",
       "      <td>Credit Card</td>\n",
       "    </tr>\n",
       "    <tr>\n",
       "      <th>4</th>\n",
       "      <td>10005.0</td>\n",
       "      <td>05-01-2024</td>\n",
       "      <td>Beauty Products</td>\n",
       "      <td>Neutrogena Skincare Set</td>\n",
       "      <td>1</td>\n",
       "      <td>89.99</td>\n",
       "      <td>89.99</td>\n",
       "      <td>Europe</td>\n",
       "      <td>PayPal</td>\n",
       "    </tr>\n",
       "  </tbody>\n",
       "</table>\n",
       "</div>"
      ],
      "text/plain": [
       "   Transaction ID        Date Product Category             Product Name  \\\n",
       "0         10001.0  01-01-2024              NaN            iPhone 14 Pro   \n",
       "1         10002.0  02-01-2024  Home Appliances         Dyson V11 Vacuum   \n",
       "2         10003.0  03-01-2024         Clothing         Levi's 501 Jeans   \n",
       "3         10004.0  04-01-2024            Books        The Da Vinci Code   \n",
       "4         10005.0  05-01-2024  Beauty Products  Neutrogena Skincare Set   \n",
       "\n",
       "  Units Sold  Unit Price  Total Revenue         Region Payment Method  \n",
       "0          2      999.99        1999.98  North America    Credit Card  \n",
       "1          1      499.99         499.99         Europe         PayPal  \n",
       "2          3       69.99         209.97           Asia     Debit Card  \n",
       "3          4       15.99          63.96  North America    Credit Card  \n",
       "4          1       89.99          89.99         Europe         PayPal  "
      ]
     },
     "execution_count": 3,
     "metadata": {},
     "output_type": "execute_result"
    }
   ],
   "source": [
    "import pandas as pd \n",
    "df=pd.read_csv(\"Online Sales Data.csv\")\n",
    "df.head()"
   ]
  },
  {
   "cell_type": "code",
   "execution_count": 4,
   "id": "08d7d8c7-c923-4232-be58-8aa753a4db05",
   "metadata": {},
   "outputs": [
    {
     "name": "stdout",
     "output_type": "stream",
     "text": [
      "<class 'pandas.core.frame.DataFrame'>\n",
      "RangeIndex: 240 entries, 0 to 239\n",
      "Data columns (total 9 columns):\n",
      " #   Column            Non-Null Count  Dtype  \n",
      "---  ------            --------------  -----  \n",
      " 0   Transaction ID    239 non-null    float64\n",
      " 1   Date              240 non-null    object \n",
      " 2   Product Category  236 non-null    object \n",
      " 3   Product Name      239 non-null    object \n",
      " 4   Units Sold        238 non-null    object \n",
      " 5   Unit Price        238 non-null    float64\n",
      " 6   Total Revenue     239 non-null    float64\n",
      " 7   Region            238 non-null    object \n",
      " 8   Payment Method    239 non-null    object \n",
      "dtypes: float64(3), object(6)\n",
      "memory usage: 17.0+ KB\n"
     ]
    }
   ],
   "source": [
    "df.info()"
   ]
  },
  {
   "cell_type": "code",
   "execution_count": 5,
   "id": "47ff6afe-7926-4c39-bdf7-4376ab1456f6",
   "metadata": {},
   "outputs": [
    {
     "data": {
      "text/plain": [
       "Transaction ID      1\n",
       "Date                0\n",
       "Product Category    4\n",
       "Product Name        1\n",
       "Units Sold          2\n",
       "Unit Price          2\n",
       "Total Revenue       1\n",
       "Region              2\n",
       "Payment Method      1\n",
       "dtype: int64"
      ]
     },
     "execution_count": 5,
     "metadata": {},
     "output_type": "execute_result"
    }
   ],
   "source": [
    "df.isnull().sum()"
   ]
  },
  {
   "cell_type": "code",
   "execution_count": 9,
   "id": "c789e948-4ca8-41b2-b86a-dd0d7c4994f1",
   "metadata": {},
   "outputs": [
    {
     "data": {
      "text/plain": [
       "Units Sold\n",
       "1      96\n",
       "2      63\n",
       "3      44\n",
       "4      22\n",
       "5       7\n",
       "6       4\n",
       "add     1\n",
       "10      1\n",
       "Name: count, dtype: int64"
      ]
     },
     "execution_count": 9,
     "metadata": {},
     "output_type": "execute_result"
    }
   ],
   "source": [
    "df[\"Units Sold\"].value_counts()\n",
    "# here addd is categorial data"
   ]
  },
  {
   "cell_type": "code",
   "execution_count": 11,
   "id": "307ae7cd-62c9-4b1d-ac12-e514adb21a53",
   "metadata": {},
   "outputs": [
    {
     "data": {
      "text/html": [
       "<div>\n",
       "<style scoped>\n",
       "    .dataframe tbody tr th:only-of-type {\n",
       "        vertical-align: middle;\n",
       "    }\n",
       "\n",
       "    .dataframe tbody tr th {\n",
       "        vertical-align: top;\n",
       "    }\n",
       "\n",
       "    .dataframe thead th {\n",
       "        text-align: right;\n",
       "    }\n",
       "</style>\n",
       "<table border=\"1\" class=\"dataframe\">\n",
       "  <thead>\n",
       "    <tr style=\"text-align: right;\">\n",
       "      <th></th>\n",
       "      <th>Transaction ID</th>\n",
       "      <th>Date</th>\n",
       "      <th>Product Category</th>\n",
       "      <th>Product Name</th>\n",
       "      <th>Units Sold</th>\n",
       "      <th>Unit Price</th>\n",
       "      <th>Total Revenue</th>\n",
       "      <th>Region</th>\n",
       "      <th>Payment Method</th>\n",
       "    </tr>\n",
       "  </thead>\n",
       "  <tbody>\n",
       "    <tr>\n",
       "      <th>0</th>\n",
       "      <td>10001.0</td>\n",
       "      <td>01-01-2024</td>\n",
       "      <td>NaN</td>\n",
       "      <td>iPhone 14 Pro</td>\n",
       "      <td>2</td>\n",
       "      <td>999.99</td>\n",
       "      <td>1999.98</td>\n",
       "      <td>North America</td>\n",
       "      <td>Credit Card</td>\n",
       "    </tr>\n",
       "    <tr>\n",
       "      <th>1</th>\n",
       "      <td>10002.0</td>\n",
       "      <td>02-01-2024</td>\n",
       "      <td>Home Appliances</td>\n",
       "      <td>Dyson V11 Vacuum</td>\n",
       "      <td>1</td>\n",
       "      <td>499.99</td>\n",
       "      <td>499.99</td>\n",
       "      <td>Europe</td>\n",
       "      <td>PayPal</td>\n",
       "    </tr>\n",
       "    <tr>\n",
       "      <th>2</th>\n",
       "      <td>10003.0</td>\n",
       "      <td>03-01-2024</td>\n",
       "      <td>Clothing</td>\n",
       "      <td>Levi's 501 Jeans</td>\n",
       "      <td>3</td>\n",
       "      <td>69.99</td>\n",
       "      <td>209.97</td>\n",
       "      <td>Asia</td>\n",
       "      <td>Debit Card</td>\n",
       "    </tr>\n",
       "    <tr>\n",
       "      <th>3</th>\n",
       "      <td>10004.0</td>\n",
       "      <td>04-01-2024</td>\n",
       "      <td>Books</td>\n",
       "      <td>The Da Vinci Code</td>\n",
       "      <td>4</td>\n",
       "      <td>15.99</td>\n",
       "      <td>63.96</td>\n",
       "      <td>North America</td>\n",
       "      <td>Credit Card</td>\n",
       "    </tr>\n",
       "    <tr>\n",
       "      <th>4</th>\n",
       "      <td>10005.0</td>\n",
       "      <td>05-01-2024</td>\n",
       "      <td>Beauty Products</td>\n",
       "      <td>Neutrogena Skincare Set</td>\n",
       "      <td>1</td>\n",
       "      <td>89.99</td>\n",
       "      <td>89.99</td>\n",
       "      <td>Europe</td>\n",
       "      <td>PayPal</td>\n",
       "    </tr>\n",
       "    <tr>\n",
       "      <th>...</th>\n",
       "      <td>...</td>\n",
       "      <td>...</td>\n",
       "      <td>...</td>\n",
       "      <td>...</td>\n",
       "      <td>...</td>\n",
       "      <td>...</td>\n",
       "      <td>...</td>\n",
       "      <td>...</td>\n",
       "      <td>...</td>\n",
       "    </tr>\n",
       "    <tr>\n",
       "      <th>235</th>\n",
       "      <td>10236.0</td>\n",
       "      <td>23-08-2024</td>\n",
       "      <td>Home Appliances</td>\n",
       "      <td>Nespresso Vertuo Next Coffee and Espresso Maker</td>\n",
       "      <td>1</td>\n",
       "      <td>159.99</td>\n",
       "      <td>159.99</td>\n",
       "      <td>Europe</td>\n",
       "      <td>PayPal</td>\n",
       "    </tr>\n",
       "    <tr>\n",
       "      <th>236</th>\n",
       "      <td>10237.0</td>\n",
       "      <td>24-08-2024</td>\n",
       "      <td>NaN</td>\n",
       "      <td>Nike Air Force 1 Sneakers</td>\n",
       "      <td>3</td>\n",
       "      <td>90.00</td>\n",
       "      <td>270.00</td>\n",
       "      <td>Asia</td>\n",
       "      <td>Debit Card</td>\n",
       "    </tr>\n",
       "    <tr>\n",
       "      <th>237</th>\n",
       "      <td>10238.0</td>\n",
       "      <td>25-08-2024</td>\n",
       "      <td>Books</td>\n",
       "      <td>The Handmaid's Tale by Margaret Atwood</td>\n",
       "      <td>3</td>\n",
       "      <td>10.99</td>\n",
       "      <td>32.97</td>\n",
       "      <td>North America</td>\n",
       "      <td>Credit Card</td>\n",
       "    </tr>\n",
       "    <tr>\n",
       "      <th>238</th>\n",
       "      <td>10239.0</td>\n",
       "      <td>26-08-2024</td>\n",
       "      <td>Beauty Products</td>\n",
       "      <td>Sunday Riley Luna Sleeping Night Oil</td>\n",
       "      <td>1</td>\n",
       "      <td>55.00</td>\n",
       "      <td>55.00</td>\n",
       "      <td>Europe</td>\n",
       "      <td>PayPal</td>\n",
       "    </tr>\n",
       "    <tr>\n",
       "      <th>239</th>\n",
       "      <td>10240.0</td>\n",
       "      <td>27-08-2024</td>\n",
       "      <td>Sports</td>\n",
       "      <td>Yeti Rambler 20 oz Tumbler</td>\n",
       "      <td>2</td>\n",
       "      <td>29.99</td>\n",
       "      <td>59.98</td>\n",
       "      <td>Asia</td>\n",
       "      <td>Credit Card</td>\n",
       "    </tr>\n",
       "  </tbody>\n",
       "</table>\n",
       "<p>240 rows × 9 columns</p>\n",
       "</div>"
      ],
      "text/plain": [
       "     Transaction ID        Date Product Category  \\\n",
       "0           10001.0  01-01-2024              NaN   \n",
       "1           10002.0  02-01-2024  Home Appliances   \n",
       "2           10003.0  03-01-2024         Clothing   \n",
       "3           10004.0  04-01-2024            Books   \n",
       "4           10005.0  05-01-2024  Beauty Products   \n",
       "..              ...         ...              ...   \n",
       "235         10236.0  23-08-2024  Home Appliances   \n",
       "236         10237.0  24-08-2024              NaN   \n",
       "237         10238.0  25-08-2024            Books   \n",
       "238         10239.0  26-08-2024  Beauty Products   \n",
       "239         10240.0  27-08-2024           Sports   \n",
       "\n",
       "                                        Product Name Units Sold  Unit Price  \\\n",
       "0                                      iPhone 14 Pro          2      999.99   \n",
       "1                                   Dyson V11 Vacuum          1      499.99   \n",
       "2                                   Levi's 501 Jeans          3       69.99   \n",
       "3                                  The Da Vinci Code          4       15.99   \n",
       "4                            Neutrogena Skincare Set          1       89.99   \n",
       "..                                               ...        ...         ...   \n",
       "235  Nespresso Vertuo Next Coffee and Espresso Maker          1      159.99   \n",
       "236                        Nike Air Force 1 Sneakers          3       90.00   \n",
       "237           The Handmaid's Tale by Margaret Atwood          3       10.99   \n",
       "238             Sunday Riley Luna Sleeping Night Oil          1       55.00   \n",
       "239                       Yeti Rambler 20 oz Tumbler          2       29.99   \n",
       "\n",
       "     Total Revenue         Region Payment Method  \n",
       "0          1999.98  North America    Credit Card  \n",
       "1           499.99         Europe         PayPal  \n",
       "2           209.97           Asia     Debit Card  \n",
       "3            63.96  North America    Credit Card  \n",
       "4            89.99         Europe         PayPal  \n",
       "..             ...            ...            ...  \n",
       "235         159.99         Europe         PayPal  \n",
       "236         270.00           Asia     Debit Card  \n",
       "237          32.97  North America    Credit Card  \n",
       "238          55.00         Europe         PayPal  \n",
       "239          59.98           Asia    Credit Card  \n",
       "\n",
       "[240 rows x 9 columns]"
      ]
     },
     "execution_count": 11,
     "metadata": {},
     "output_type": "execute_result"
    }
   ],
   "source": [
    "df[\"Units Sold\"].fillna(df[\"Units Sold\"].mode()[0],inplace=True)\n",
    "df"
   ]
  },
  {
   "cell_type": "code",
   "execution_count": 12,
   "id": "ef8b5df9-56b3-4828-bed3-5ea1c8740c84",
   "metadata": {},
   "outputs": [
    {
     "data": {
      "text/plain": [
       "Transaction ID      1\n",
       "Date                0\n",
       "Product Category    4\n",
       "Product Name        1\n",
       "Units Sold          0\n",
       "Unit Price          2\n",
       "Total Revenue       1\n",
       "Region              2\n",
       "Payment Method      1\n",
       "dtype: int64"
      ]
     },
     "execution_count": 12,
     "metadata": {},
     "output_type": "execute_result"
    }
   ],
   "source": [
    "df.isnull().sum()"
   ]
  },
  {
   "cell_type": "code",
   "execution_count": 13,
   "id": "e2480f19-208d-44a7-99a8-71092387467e",
   "metadata": {},
   "outputs": [
    {
     "data": {
      "text/plain": [
       "Units Sold\n",
       "1      98\n",
       "2      63\n",
       "3      44\n",
       "4      22\n",
       "5       7\n",
       "6       4\n",
       "add     1\n",
       "10      1\n",
       "Name: count, dtype: int64"
      ]
     },
     "execution_count": 13,
     "metadata": {},
     "output_type": "execute_result"
    }
   ],
   "source": [
    "df[\"Units Sold\"].value_counts()"
   ]
  },
  {
   "cell_type": "code",
   "execution_count": 15,
   "id": "b16caec2-ded9-4f4e-8d3b-6ebd26b9e6a3",
   "metadata": {},
   "outputs": [
    {
     "data": {
      "text/plain": [
       "Units Sold\n",
       "1     98\n",
       "2     63\n",
       "3     45\n",
       "4     22\n",
       "5      7\n",
       "6      4\n",
       "10     1\n",
       "Name: count, dtype: int64"
      ]
     },
     "execution_count": 15,
     "metadata": {},
     "output_type": "execute_result"
    }
   ],
   "source": [
    "df[\"Units Sold\"].replace(\"add\",\"3\",inplace=True)\n",
    "df[\"Units Sold\"].value_counts()"
   ]
  },
  {
   "cell_type": "code",
   "execution_count": 16,
   "id": "55885a13-6400-490b-a258-3df1450321f9",
   "metadata": {},
   "outputs": [
    {
     "name": "stdout",
     "output_type": "stream",
     "text": [
      "<class 'pandas.core.frame.DataFrame'>\n",
      "RangeIndex: 240 entries, 0 to 239\n",
      "Data columns (total 9 columns):\n",
      " #   Column            Non-Null Count  Dtype  \n",
      "---  ------            --------------  -----  \n",
      " 0   Transaction ID    239 non-null    float64\n",
      " 1   Date              240 non-null    object \n",
      " 2   Product Category  236 non-null    object \n",
      " 3   Product Name      239 non-null    object \n",
      " 4   Units Sold        240 non-null    object \n",
      " 5   Unit Price        238 non-null    float64\n",
      " 6   Total Revenue     239 non-null    float64\n",
      " 7   Region            238 non-null    object \n",
      " 8   Payment Method    239 non-null    object \n",
      "dtypes: float64(3), object(6)\n",
      "memory usage: 17.0+ KB\n"
     ]
    }
   ],
   "source": [
    "df.info()\n"
   ]
  },
  {
   "cell_type": "code",
   "execution_count": 20,
   "id": "5e74ee3c-0476-4af7-9bf6-ec4d7188fa6f",
   "metadata": {},
   "outputs": [],
   "source": [
    "# 4   Units Sold        240 non-null    object\n",
    "# convert this datatype to integer \n",
    "\n",
    "df[\"df_replace\"]=df[\"Units Sold\"].astype(\"int64\")"
   ]
  },
  {
   "cell_type": "code",
   "execution_count": 21,
   "id": "e811afdb-b07b-4065-9266-47666897e79c",
   "metadata": {},
   "outputs": [
    {
     "name": "stdout",
     "output_type": "stream",
     "text": [
      "<class 'pandas.core.frame.DataFrame'>\n",
      "RangeIndex: 240 entries, 0 to 239\n",
      "Data columns (total 10 columns):\n",
      " #   Column            Non-Null Count  Dtype  \n",
      "---  ------            --------------  -----  \n",
      " 0   Transaction ID    239 non-null    float64\n",
      " 1   Date              240 non-null    object \n",
      " 2   Product Category  236 non-null    object \n",
      " 3   Product Name      239 non-null    object \n",
      " 4   Units Sold        240 non-null    object \n",
      " 5   Unit Price        238 non-null    float64\n",
      " 6   Total Revenue     239 non-null    float64\n",
      " 7   Region            238 non-null    object \n",
      " 8   Payment Method    239 non-null    object \n",
      " 9   df_replace        240 non-null    int64  \n",
      "dtypes: float64(3), int64(1), object(6)\n",
      "memory usage: 18.9+ KB\n"
     ]
    }
   ],
   "source": [
    "df.info()\n"
   ]
  },
  {
   "cell_type": "code",
   "execution_count": null,
   "id": "da76f38a-e124-49e0-95ff-276ffded315f",
   "metadata": {},
   "outputs": [],
   "source": []
  }
 ],
 "metadata": {
  "kernelspec": {
   "display_name": "Python 3 (ipykernel)",
   "language": "python",
   "name": "python3"
  },
  "language_info": {
   "codemirror_mode": {
    "name": "ipython",
    "version": 3
   },
   "file_extension": ".py",
   "mimetype": "text/x-python",
   "name": "python",
   "nbconvert_exporter": "python",
   "pygments_lexer": "ipython3",
   "version": "3.11.0"
  }
 },
 "nbformat": 4,
 "nbformat_minor": 5
}
