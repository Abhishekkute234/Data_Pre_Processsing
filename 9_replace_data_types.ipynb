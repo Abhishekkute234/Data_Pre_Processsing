{
 "cells": [
  {
   "cell_type": "markdown",
   "id": "be48888a-6bd8-4367-9724-2a790b7b15f1",
   "metadata": {},
   "source": [
    "# Data type Transformation"
   ]
  },
  {
   "cell_type": "code",
   "execution_count": 3,
   "id": "0f036343-cede-4a83-ab76-6d43a7ae1f8f",
   "metadata": {},
   "outputs": [
    {
     "data": {
      "text/html": [
       "<div>\n",
       "<style scoped>\n",
       "    .dataframe tbody tr th:only-of-type {\n",
       "        vertical-align: middle;\n",
       "    }\n",
       "\n",
       "    .dataframe tbody tr th {\n",
       "        vertical-align: top;\n",
       "    }\n",
       "\n",
       "    .dataframe thead th {\n",
       "        text-align: right;\n",
       "    }\n",
       "</style>\n",
       "<table border=\"1\" class=\"dataframe\">\n",
       "  <thead>\n",
       "    <tr style=\"text-align: right;\">\n",
       "      <th></th>\n",
       "      <th>Transaction ID</th>\n",
       "      <th>Date</th>\n",
       "      <th>Product Category</th>\n",
       "      <th>Product Name</th>\n",
       "      <th>Units Sold</th>\n",
       "      <th>Unit Price</th>\n",
       "      <th>Total Revenue</th>\n",
       "      <th>Region</th>\n",
       "      <th>Payment Method</th>\n",
       "    </tr>\n",
       "  </thead>\n",
       "  <tbody>\n",
       "    <tr>\n",
       "      <th>0</th>\n",
       "      <td>10001.0</td>\n",
       "      <td>01-01-2024</td>\n",
       "      <td>NaN</td>\n",
       "      <td>iPhone 14 Pro</td>\n",
       "      <td>2</td>\n",
       "      <td>999.99</td>\n",
       "      <td>1999.98</td>\n",
       "      <td>North America</td>\n",
       "      <td>Credit Card</td>\n",
       "    </tr>\n",
       "    <tr>\n",
       "      <th>1</th>\n",
       "      <td>10002.0</td>\n",
       "      <td>02-01-2024</td>\n",
       "      <td>Home Appliances</td>\n",
       "      <td>Dyson V11 Vacuum</td>\n",
       "      <td>1</td>\n",
       "      <td>499.99</td>\n",
       "      <td>499.99</td>\n",
       "      <td>Europe</td>\n",
       "      <td>PayPal</td>\n",
       "    </tr>\n",
       "    <tr>\n",
       "      <th>2</th>\n",
       "      <td>10003.0</td>\n",
       "      <td>03-01-2024</td>\n",
       "      <td>Clothing</td>\n",
       "      <td>Levi's 501 Jeans</td>\n",
       "      <td>3</td>\n",
       "      <td>69.99</td>\n",
       "      <td>209.97</td>\n",
       "      <td>Asia</td>\n",
       "      <td>Debit Card</td>\n",
       "    </tr>\n",
       "    <tr>\n",
       "      <th>3</th>\n",
       "      <td>10004.0</td>\n",
       "      <td>04-01-2024</td>\n",
       "      <td>Books</td>\n",
       "      <td>The Da Vinci Code</td>\n",
       "      <td>4</td>\n",
       "      <td>15.99</td>\n",
       "      <td>63.96</td>\n",
       "      <td>North America</td>\n",
       "      <td>Credit Card</td>\n",
       "    </tr>\n",
       "    <tr>\n",
       "      <th>4</th>\n",
       "      <td>10005.0</td>\n",
       "      <td>05-01-2024</td>\n",
       "      <td>Beauty Products</td>\n",
       "      <td>Neutrogena Skincare Set</td>\n",
       "      <td>1</td>\n",
       "      <td>89.99</td>\n",
       "      <td>89.99</td>\n",
       "      <td>Europe</td>\n",
       "      <td>PayPal</td>\n",
       "    </tr>\n",
       "  </tbody>\n",
       "</table>\n",
       "</div>"
      ],
      "text/plain": [
       "   Transaction ID        Date Product Category             Product Name  \\\n",
       "0         10001.0  01-01-2024              NaN            iPhone 14 Pro   \n",
       "1         10002.0  02-01-2024  Home Appliances         Dyson V11 Vacuum   \n",
       "2         10003.0  03-01-2024         Clothing         Levi's 501 Jeans   \n",
       "3         10004.0  04-01-2024            Books        The Da Vinci Code   \n",
       "4         10005.0  05-01-2024  Beauty Products  Neutrogena Skincare Set   \n",
       "\n",
       "  Units Sold  Unit Price  Total Revenue         Region Payment Method  \n",
       "0          2      999.99        1999.98  North America    Credit Card  \n",
       "1          1      499.99         499.99         Europe         PayPal  \n",
       "2          3       69.99         209.97           Asia     Debit Card  \n",
       "3          4       15.99          63.96  North America    Credit Card  \n",
       "4          1       89.99          89.99         Europe         PayPal  "
      ]
     },
     "execution_count": 3,
     "metadata": {},
     "output_type": "execute_result"
    }
   ],
   "source": [
    "import pandas as pd \n",
    "df=pd.read_csv(\"Online Sales Data.csv\")\n",
    "df.head()"
   ]
  },
  {
   "cell_type": "code",
   "execution_count": 4,
   "id": "08d7d8c7-c923-4232-be58-8aa753a4db05",
   "metadata": {},
   "outputs": [
    {
     "name": "stdout",
     "output_type": "stream",
     "text": [
      "<class 'pandas.core.frame.DataFrame'>\n",
      "RangeIndex: 240 entries, 0 to 239\n",
      "Data columns (total 9 columns):\n",
      " #   Column            Non-Null Count  Dtype  \n",
      "---  ------            --------------  -----  \n",
      " 0   Transaction ID    239 non-null    float64\n",
      " 1   Date              240 non-null    object \n",
      " 2   Product Category  236 non-null    object \n",
      " 3   Product Name      239 non-null    object \n",
      " 4   Units Sold        238 non-null    object \n",
      " 5   Unit Price        238 non-null    float64\n",
      " 6   Total Revenue     239 non-null    float64\n",
      " 7   Region            238 non-null    object \n",
      " 8   Payment Method    239 non-null    object \n",
      "dtypes: float64(3), object(6)\n",
      "memory usage: 17.0+ KB\n"
     ]
    }
   ],
   "source": [
    "df.info()"
   ]
  },
  {
   "cell_type": "code",
   "execution_count": 5,
   "id": "47ff6afe-7926-4c39-bdf7-4376ab1456f6",
   "metadata": {},
   "outputs": [
    {
     "data": {
      "text/plain": [
       "Transaction ID      1\n",
       "Date                0\n",
       "Product Category    4\n",
       "Product Name        1\n",
       "Units Sold          2\n",
       "Unit Price          2\n",
       "Total Revenue       1\n",
       "Region              2\n",
       "Payment Method      1\n",
       "dtype: int64"
      ]
     },
     "execution_count": 5,
     "metadata": {},
     "output_type": "execute_result"
    }
   ],
   "source": [
    "df.isnull().sum()"
   ]
  },
  {
   "cell_type": "code",
   "execution_count": 9,
   "id": "c789e948-4ca8-41b2-b86a-dd0d7c4994f1",
   "metadata": {},
   "outputs": [
    {
     "data": {
      "text/plain": [
       "Units Sold\n",
       "1      96\n",
       "2      63\n",
       "3      44\n",
       "4      22\n",
       "5       7\n",
       "6       4\n",
       "add     1\n",
       "10      1\n",
       "Name: count, dtype: int64"
      ]
     },
     "execution_count": 9,
     "metadata": {},
     "output_type": "execute_result"
    }
   ],
   "source": [
    "df[\"Units Sold\"].value_counts()\n",
    "# here addd is categorial data"
   ]
  },
  {
   "cell_type": "code",
   "execution_count": 11,
   "id": "307ae7cd-62c9-4b1d-ac12-e514adb21a53",
   "metadata": {},
   "outputs": [
    {
     "data": {
      "text/html": [
       "<div>\n",
       "<style scoped>\n",
       "    .dataframe tbody tr th:only-of-type {\n",
       "        vertical-align: middle;\n",
       "    }\n",
       "\n",
       "    .dataframe tbody tr th {\n",
       "        vertical-align: top;\n",
       "    }\n",
       "\n",
       "    .dataframe thead th {\n",
       "        text-align: right;\n",
       "    }\n",
       "</style>\n",
       "<table border=\"1\" class=\"dataframe\">\n",
       "  <thead>\n",
       "    <tr style=\"text-align: right;\">\n",
       "      <th></th>\n",
       "      <th>Transaction ID</th>\n",
       "      <th>Date</th>\n",
       "      <th>Product Category</th>\n",
       "      <th>Product Name</th>\n",
       "      <th>Units Sold</th>\n",
       "      <th>Unit Price</th>\n",
       "      <th>Total Revenue</th>\n",
       "      <th>Region</th>\n",
       "      <th>Payment Method</th>\n",
       "    </tr>\n",
       "  </thead>\n",
       "  <tbody>\n",
       "    <tr>\n",
       "      <th>0</th>\n",
       "      <td>10001.0</td>\n",
       "      <td>01-01-2024</td>\n",
       "      <td>NaN</td>\n",
       "      <td>iPhone 14 Pro</td>\n",
       "      <td>2</td>\n",
       "      <td>999.99</td>\n",
       "      <td>1999.98</td>\n",
       "      <td>North America</td>\n",
       "      <td>Credit Card</td>\n",
       "    </tr>\n",
       "    <tr>\n",
       "      <th>1</th>\n",
       "      <td>10002.0</td>\n",
       "      <td>02-01-2024</td>\n",
       "      <td>Home Appliances</td>\n",
       "      <td>Dyson V11 Vacuum</td>\n",
       "      <td>1</td>\n",
       "      <td>499.99</td>\n",
       "      <td>499.99</td>\n",
       "      <td>Europe</td>\n",
       "      <td>PayPal</td>\n",
       "    </tr>\n",
       "    <tr>\n",
       "      <th>2</th>\n",
       "      <td>10003.0</td>\n",
       "      <td>03-01-2024</td>\n",
       "      <td>Clothing</td>\n",
       "      <td>Levi's 501 Jeans</td>\n",
       "      <td>3</td>\n",
       "      <td>69.99</td>\n",
       "      <td>209.97</td>\n",
       "      <td>Asia</td>\n",
       "      <td>Debit Card</td>\n",
       "    </tr>\n",
       "    <tr>\n",
       "      <th>3</th>\n",
       "      <td>10004.0</td>\n",
       "      <td>04-01-2024</td>\n",
       "      <td>Books</td>\n",
       "      <td>The Da Vinci Code</td>\n",
       "      <td>4</td>\n",
       "      <td>15.99</td>\n",
       "      <td>63.96</td>\n",
       "      <td>North America</td>\n",
       "      <td>Credit Card</td>\n",
       "    </tr>\n",
       "    <tr>\n",
       "      <th>4</th>\n",
       "      <td>10005.0</td>\n",
       "      <td>05-01-2024</td>\n",
       "      <td>Beauty Products</td>\n",
       "      <td>Neutrogena Skincare Set</td>\n",
       "      <td>1</td>\n",
       "      <td>89.99</td>\n",
       "      <td>89.99</td>\n",
       "      <td>Europe</td>\n",
       "      <td>PayPal</td>\n",
       "    </tr>\n",
       "    <tr>\n",
       "      <th>...</th>\n",
       "      <td>...</td>\n",
       "      <td>...</td>\n",
       "      <td>...</td>\n",
       "      <td>...</td>\n",
       "      <td>...</td>\n",
       "      <td>...</td>\n",
       "      <td>...</td>\n",
       "      <td>...</td>\n",
       "      <td>...</td>\n",
       "    </tr>\n",
       "    <tr>\n",
       "      <th>235</th>\n",
       "      <td>10236.0</td>\n",
       "      <td>23-08-2024</td>\n",
       "      <td>Home Appliances</td>\n",
       "      <td>Nespresso Vertuo Next Coffee and Espresso Maker</td>\n",
       "      <td>1</td>\n",
       "      <td>159.99</td>\n",
       "      <td>159.99</td>\n",
       "      <td>Europe</td>\n",
       "      <td>PayPal</td>\n",
       "    </tr>\n",
       "    <tr>\n",
       "      <th>236</th>\n",
       "      <td>10237.0</td>\n",
       "      <td>24-08-2024</td>\n",
       "      <td>NaN</td>\n",
       "      <td>Nike Air Force 1 Sneakers</td>\n",
       "      <td>3</td>\n",
       "      <td>90.00</td>\n",
       "      <td>270.00</td>\n",
       "      <td>Asia</td>\n",
       "      <td>Debit Card</td>\n",
       "    </tr>\n",
       "    <tr>\n",
       "      <th>237</th>\n",
       "      <td>10238.0</td>\n",
       "      <td>25-08-2024</td>\n",
       "      <td>Books</td>\n",
       "      <td>The Handmaid's Tale by Margaret Atwood</td>\n",
       "      <td>3</td>\n",
       "      <td>10.99</td>\n",
       "      <td>32.97</td>\n",
       "      <td>North America</td>\n",
       "      <td>Credit Card</td>\n",
       "    </tr>\n",
       "    <tr>\n",
       "      <th>238</th>\n",
       "      <td>10239.0</td>\n",
       "      <td>26-08-2024</td>\n",
       "      <td>Beauty Products</td>\n",
       "      <td>Sunday Riley Luna Sleeping Night Oil</td>\n",
       "      <td>1</td>\n",
       "      <td>55.00</td>\n",
       "      <td>55.00</td>\n",
       "      <td>Europe</td>\n",
       "      <td>PayPal</td>\n",
       "    </tr>\n",
       "    <tr>\n",
       "      <th>239</th>\n",
       "      <td>10240.0</td>\n",
       "      <td>27-08-2024</td>\n",
       "      <td>Sports</td>\n",
       "      <td>Yeti Rambler 20 oz Tumbler</td>\n",
       "      <td>2</td>\n",
       "      <td>29.99</td>\n",
       "      <td>59.98</td>\n",
       "      <td>Asia</td>\n",
       "      <td>Credit Card</td>\n",
       "    </tr>\n",
       "  </tbody>\n",
       "</table>\n",
       "<p>240 rows × 9 columns</p>\n",
       "</div>"
      ],
      "text/plain": [
       "     Transaction ID        Date Product Category  \\\n",
       "0           10001.0  01-01-2024              NaN   \n",
       "1           10002.0  02-01-2024  Home Appliances   \n",
       "2           10003.0  03-01-2024         Clothing   \n",
       "3           10004.0  04-01-2024            Books   \n",
       "4           10005.0  05-01-2024  Beauty Products   \n",
       "..              ...         ...              ...   \n",
       "235         10236.0  23-08-2024  Home Appliances   \n",
       "236         10237.0  24-08-2024              NaN   \n",
       "237         10238.0  25-08-2024            Books   \n",
       "238         10239.0  26-08-2024  Beauty Products   \n",
       "239         10240.0  27-08-2024           Sports   \n",
       "\n",
       "                                        Product Name Units Sold  Unit Price  \\\n",
       "0                                      iPhone 14 Pro          2      999.99   \n",
       "1                                   Dyson V11 Vacuum          1      499.99   \n",
       "2                                   Levi's 501 Jeans          3       69.99   \n",
       "3                                  The Da Vinci Code          4       15.99   \n",
       "4                            Neutrogena Skincare Set          1       89.99   \n",
       "..                                               ...        ...         ...   \n",
       "235  Nespresso Vertuo Next Coffee and Espresso Maker          1      159.99   \n",
       "236                        Nike Air Force 1 Sneakers          3       90.00   \n",
       "237           The Handmaid's Tale by Margaret Atwood          3       10.99   \n",
       "238             Sunday Riley Luna Sleeping Night Oil          1       55.00   \n",
       "239                       Yeti Rambler 20 oz Tumbler          2       29.99   \n",
       "\n",
       "     Total Revenue         Region Payment Method  \n",
       "0          1999.98  North America    Credit Card  \n",
       "1           499.99         Europe         PayPal  \n",
       "2           209.97           Asia     Debit Card  \n",
       "3            63.96  North America    Credit Card  \n",
       "4            89.99         Europe         PayPal  \n",
       "..             ...            ...            ...  \n",
       "235         159.99         Europe         PayPal  \n",
       "236         270.00           Asia     Debit Card  \n",
       "237          32.97  North America    Credit Card  \n",
       "238          55.00         Europe         PayPal  \n",
       "239          59.98           Asia    Credit Card  \n",
       "\n",
       "[240 rows x 9 columns]"
      ]
     },
     "execution_count": 11,
     "metadata": {},
     "output_type": "execute_result"
    }
   ],
   "source": [
    "df[\"Units Sold\"].fillna(df[\"Units Sold\"].mode()[0],inplace=True)\n",
    "df"
   ]
  },
  {
   "cell_type": "code",
   "execution_count": 12,
   "id": "ef8b5df9-56b3-4828-bed3-5ea1c8740c84",
   "metadata": {},
   "outputs": [
    {
     "data": {
      "text/plain": [
       "Transaction ID      1\n",
       "Date                0\n",
       "Product Category    4\n",
       "Product Name        1\n",
       "Units Sold          0\n",
       "Unit Price          2\n",
       "Total Revenue       1\n",
       "Region              2\n",
       "Payment Method      1\n",
       "dtype: int64"
      ]
     },
     "execution_count": 12,
     "metadata": {},
     "output_type": "execute_result"
    }
   ],
   "source": [
    "df.isnull().sum()"
   ]
  },
  {
   "cell_type": "code",
   "execution_count": 13,
   "id": "e2480f19-208d-44a7-99a8-71092387467e",
   "metadata": {},
   "outputs": [
    {
     "data": {
      "text/plain": [
       "Units Sold\n",
       "1      98\n",
       "2      63\n",
       "3      44\n",
       "4      22\n",
       "5       7\n",
       "6       4\n",
       "add     1\n",
       "10      1\n",
       "Name: count, dtype: int64"
      ]
     },
     "execution_count": 13,
     "metadata": {},
     "output_type": "execute_result"
    }
   ],
   "source": [
    "df[\"Units Sold\"].value_counts()"
   ]
  },
  {
   "cell_type": "code",
   "execution_count": 15,
   "id": "b16caec2-ded9-4f4e-8d3b-6ebd26b9e6a3",
   "metadata": {},
   "outputs": [
    {
     "data": {
      "text/plain": [
       "Units Sold\n",
       "1     98\n",
       "2     63\n",
       "3     45\n",
       "4     22\n",
       "5      7\n",
       "6      4\n",
       "10     1\n",
       "Name: count, dtype: int64"
      ]
     },
     "execution_count": 15,
     "metadata": {},
     "output_type": "execute_result"
    }
   ],
   "source": [
    "df[\"Units Sold\"].replace(\"add\",\"3\",inplace=True)\n",
    "df[\"Units Sold\"].value_counts()"
   ]
  },
  {
   "cell_type": "code",
   "execution_count": 16,
   "id": "55885a13-6400-490b-a258-3df1450321f9",
   "metadata": {},
   "outputs": [
    {
     "name": "stdout",
     "output_type": "stream",
     "text": [
      "<class 'pandas.core.frame.DataFrame'>\n",
      "RangeIndex: 240 entries, 0 to 239\n",
      "Data columns (total 9 columns):\n",
      " #   Column            Non-Null Count  Dtype  \n",
      "---  ------            --------------  -----  \n",
      " 0   Transaction ID    239 non-null    float64\n",
      " 1   Date              240 non-null    object \n",
      " 2   Product Category  236 non-null    object \n",
      " 3   Product Name      239 non-null    object \n",
      " 4   Units Sold        240 non-null    object \n",
      " 5   Unit Price        238 non-null    float64\n",
      " 6   Total Revenue     239 non-null    float64\n",
      " 7   Region            238 non-null    object \n",
      " 8   Payment Method    239 non-null    object \n",
      "dtypes: float64(3), object(6)\n",
      "memory usage: 17.0+ KB\n"
     ]
    }
   ],
   "source": [
    "df.info()\n"
   ]
  },
  {
   "cell_type": "code",
   "execution_count": 20,
   "id": "5e74ee3c-0476-4af7-9bf6-ec4d7188fa6f",
   "metadata": {},
   "outputs": [],
   "source": [
    "# 4   Units Sold        240 non-null    object\n",
    "# convert this datatype to integer \n",
    "\n",
    "df[\"df_replace\"]=df[\"Units Sold\"].astype(\"int64\")"
   ]
  },
  {
   "cell_type": "code",
   "execution_count": 21,
   "id": "e811afdb-b07b-4065-9266-47666897e79c",
   "metadata": {},
   "outputs": [
    {
     "name": "stdout",
     "output_type": "stream",
     "text": [
      "<class 'pandas.core.frame.DataFrame'>\n",
      "RangeIndex: 240 entries, 0 to 239\n",
      "Data columns (total 10 columns):\n",
      " #   Column            Non-Null Count  Dtype  \n",
      "---  ------            --------------  -----  \n",
      " 0   Transaction ID    239 non-null    float64\n",
      " 1   Date              240 non-null    object \n",
      " 2   Product Category  236 non-null    object \n",
      " 3   Product Name      239 non-null    object \n",
      " 4   Units Sold        240 non-null    object \n",
      " 5   Unit Price        238 non-null    float64\n",
      " 6   Total Revenue     239 non-null    float64\n",
      " 7   Region            238 non-null    object \n",
      " 8   Payment Method    239 non-null    object \n",
      " 9   df_replace        240 non-null    int64  \n",
      "dtypes: float64(3), int64(1), object(6)\n",
      "memory usage: 18.9+ KB\n"
     ]
    }
   ],
   "source": [
    "df.info()\n"
   ]
  },
  {
   "cell_type": "markdown",
   "id": "09e6e32d-05ca-4b6a-b4b9-c5e43c8e0fba",
   "metadata": {},
   "source": [
    "# Function Transformation "
   ]
  },
  {
   "cell_type": "markdown",
   "id": "5893f07e-10f9-416a-8d21-46cae8426e2b",
   "metadata": {},
   "source": [
    "### convert non-distribution data to distribution data"
   ]
  },
  {
   "cell_type": "code",
   "execution_count": 1,
   "id": "f3ea2618-abd0-4ac2-9ff1-315a86a1071b",
   "metadata": {},
   "outputs": [
    {
     "data": {
      "text/html": [
       "<div>\n",
       "<style scoped>\n",
       "    .dataframe tbody tr th:only-of-type {\n",
       "        vertical-align: middle;\n",
       "    }\n",
       "\n",
       "    .dataframe tbody tr th {\n",
       "        vertical-align: top;\n",
       "    }\n",
       "\n",
       "    .dataframe thead th {\n",
       "        text-align: right;\n",
       "    }\n",
       "</style>\n",
       "<table border=\"1\" class=\"dataframe\">\n",
       "  <thead>\n",
       "    <tr style=\"text-align: right;\">\n",
       "      <th></th>\n",
       "      <th>Transaction ID</th>\n",
       "      <th>Date</th>\n",
       "      <th>Product Category</th>\n",
       "      <th>Product Name</th>\n",
       "      <th>Units Sold</th>\n",
       "      <th>Unit Price</th>\n",
       "      <th>Total Revenue</th>\n",
       "      <th>Region</th>\n",
       "      <th>Payment Method</th>\n",
       "    </tr>\n",
       "  </thead>\n",
       "  <tbody>\n",
       "    <tr>\n",
       "      <th>0</th>\n",
       "      <td>10001.0</td>\n",
       "      <td>01-01-2024</td>\n",
       "      <td>NaN</td>\n",
       "      <td>iPhone 14 Pro</td>\n",
       "      <td>2</td>\n",
       "      <td>999.99</td>\n",
       "      <td>1999.98</td>\n",
       "      <td>North America</td>\n",
       "      <td>Credit Card</td>\n",
       "    </tr>\n",
       "    <tr>\n",
       "      <th>1</th>\n",
       "      <td>10002.0</td>\n",
       "      <td>02-01-2024</td>\n",
       "      <td>Home Appliances</td>\n",
       "      <td>Dyson V11 Vacuum</td>\n",
       "      <td>1</td>\n",
       "      <td>499.99</td>\n",
       "      <td>499.99</td>\n",
       "      <td>Europe</td>\n",
       "      <td>PayPal</td>\n",
       "    </tr>\n",
       "    <tr>\n",
       "      <th>2</th>\n",
       "      <td>10003.0</td>\n",
       "      <td>03-01-2024</td>\n",
       "      <td>Clothing</td>\n",
       "      <td>Levi's 501 Jeans</td>\n",
       "      <td>3</td>\n",
       "      <td>69.99</td>\n",
       "      <td>209.97</td>\n",
       "      <td>Asia</td>\n",
       "      <td>Debit Card</td>\n",
       "    </tr>\n",
       "    <tr>\n",
       "      <th>3</th>\n",
       "      <td>10004.0</td>\n",
       "      <td>04-01-2024</td>\n",
       "      <td>Books</td>\n",
       "      <td>The Da Vinci Code</td>\n",
       "      <td>4</td>\n",
       "      <td>15.99</td>\n",
       "      <td>63.96</td>\n",
       "      <td>North America</td>\n",
       "      <td>Credit Card</td>\n",
       "    </tr>\n",
       "    <tr>\n",
       "      <th>4</th>\n",
       "      <td>10005.0</td>\n",
       "      <td>05-01-2024</td>\n",
       "      <td>Beauty Products</td>\n",
       "      <td>Neutrogena Skincare Set</td>\n",
       "      <td>1</td>\n",
       "      <td>89.99</td>\n",
       "      <td>89.99</td>\n",
       "      <td>Europe</td>\n",
       "      <td>PayPal</td>\n",
       "    </tr>\n",
       "  </tbody>\n",
       "</table>\n",
       "</div>"
      ],
      "text/plain": [
       "   Transaction ID        Date Product Category             Product Name  \\\n",
       "0         10001.0  01-01-2024              NaN            iPhone 14 Pro   \n",
       "1         10002.0  02-01-2024  Home Appliances         Dyson V11 Vacuum   \n",
       "2         10003.0  03-01-2024         Clothing         Levi's 501 Jeans   \n",
       "3         10004.0  04-01-2024            Books        The Da Vinci Code   \n",
       "4         10005.0  05-01-2024  Beauty Products  Neutrogena Skincare Set   \n",
       "\n",
       "  Units Sold  Unit Price  Total Revenue         Region Payment Method  \n",
       "0          2      999.99        1999.98  North America    Credit Card  \n",
       "1          1      499.99         499.99         Europe         PayPal  \n",
       "2          3       69.99         209.97           Asia     Debit Card  \n",
       "3          4       15.99          63.96  North America    Credit Card  \n",
       "4          1       89.99          89.99         Europe         PayPal  "
      ]
     },
     "execution_count": 1,
     "metadata": {},
     "output_type": "execute_result"
    }
   ],
   "source": [
    "import numpy as np\n",
    "import pandas as pd\n",
    "import matplotlib.pyplot as plt\n",
    "import seaborn as sns\n",
    "\n",
    "\n",
    "df=pd.read_csv(\"Online Sales Data.csv\")\n",
    "df.head(5)\n",
    "\n",
    "# here UNIT PRICE and TOTAL REVENUE are the two non distributional data column"
   ]
  },
  {
   "cell_type": "code",
   "execution_count": 2,
   "id": "4e75e62a-1bfd-4df4-bb9a-a2262c219354",
   "metadata": {},
   "outputs": [
    {
     "data": {
      "text/plain": [
       "Transaction ID      1\n",
       "Date                0\n",
       "Product Category    4\n",
       "Product Name        1\n",
       "Units Sold          2\n",
       "Unit Price          2\n",
       "Total Revenue       1\n",
       "Region              2\n",
       "Payment Method      1\n",
       "dtype: int64"
      ]
     },
     "execution_count": 2,
     "metadata": {},
     "output_type": "execute_result"
    }
   ],
   "source": [
    "df.isnull().sum()"
   ]
  },
  {
   "cell_type": "code",
   "execution_count": 3,
   "id": "6e6f6ac7-ec45-4aa4-80a7-5d6b41a024bc",
   "metadata": {},
   "outputs": [
    {
     "name": "stderr",
     "output_type": "stream",
     "text": [
      "C:\\Users\\HP\\AppData\\Local\\Temp\\ipykernel_26820\\338776975.py:1: FutureWarning: A value is trying to be set on a copy of a DataFrame or Series through chained assignment using an inplace method.\n",
      "The behavior will change in pandas 3.0. This inplace method will never work because the intermediate object on which we are setting values always behaves as a copy.\n",
      "\n",
      "For example, when doing 'df[col].method(value, inplace=True)', try using 'df.method({col: value}, inplace=True)' or df[col] = df[col].method(value) instead, to perform the operation inplace on the original object.\n",
      "\n",
      "\n",
      "  df[\"Unit Price\"].fillna(df[\"Unit Price\"].mode()[0],inplace=True)\n",
      "C:\\Users\\HP\\AppData\\Local\\Temp\\ipykernel_26820\\338776975.py:2: FutureWarning: A value is trying to be set on a copy of a DataFrame or Series through chained assignment using an inplace method.\n",
      "The behavior will change in pandas 3.0. This inplace method will never work because the intermediate object on which we are setting values always behaves as a copy.\n",
      "\n",
      "For example, when doing 'df[col].method(value, inplace=True)', try using 'df.method({col: value}, inplace=True)' or df[col] = df[col].method(value) instead, to perform the operation inplace on the original object.\n",
      "\n",
      "\n",
      "  df[\"Total Revenue\"].fillna(df[\"Total Revenue\"].mode()[0],inplace=True)\n"
     ]
    },
    {
     "data": {
      "text/plain": [
       "Transaction ID      1\n",
       "Date                0\n",
       "Product Category    4\n",
       "Product Name        1\n",
       "Units Sold          2\n",
       "Unit Price          0\n",
       "Total Revenue       0\n",
       "Region              2\n",
       "Payment Method      1\n",
       "dtype: int64"
      ]
     },
     "execution_count": 3,
     "metadata": {},
     "output_type": "execute_result"
    }
   ],
   "source": [
    "df[\"Unit Price\"].fillna(df[\"Unit Price\"].mode()[0],inplace=True)\n",
    "df[\"Total Revenue\"].fillna(df[\"Total Revenue\"].mode()[0],inplace=True)\n",
    "df.isnull().sum()\n"
   ]
  },
  {
   "cell_type": "code",
   "execution_count": 4,
   "id": "c61c84f5-3c60-4498-a063-eebdbb9c7c7a",
   "metadata": {},
   "outputs": [
    {
     "data": {
      "image/png": "[encoded data removed]",
      "text/plain": [
       "<Figure size 500x500 with 1 Axes>"
      ]
     },
     "metadata": {},
     "output_type": "display_data"
    }
   ],
   "source": [
    "sns.displot(df[\"Total Revenue\"])\n",
    "plt.show()"
   ]
  },
  {
   "cell_type": "code",
   "execution_count": 5,
   "id": "1e187e7a-584e-471e-8926-30835f6593c9",
   "metadata": {},
   "outputs": [],
   "source": [
    "q1=df[\"Total Revenue\"].quantile(0.25)\n",
    "q3=df[\"Total Revenue\"].quantile(0.75)\n",
    "\n",
    "IQR=q3-q1"
   ]
  },
  {
   "cell_type": "code",
   "execution_count": 6,
   "id": "3c5103f2-754c-427c-a2df-193f119c26ef",
   "metadata": {},
   "outputs": [
    {
     "data": {
      "text/plain": [
       "(-441.42499999999995, 567.355)"
      ]
     },
     "execution_count": 6,
     "metadata": {},
     "output_type": "execute_result"
    }
   ],
   "source": [
    "min_range=q1-(1.5*IQR)\n",
    "max_range=q1+(1.5*IQR)\n",
    "min_range,max_range"
   ]
  },
  {
   "cell_type": "code",
   "execution_count": 7,
   "id": "268c2574-daa0-4d8d-b6ae-ec7bd4905405",
   "metadata": {},
   "outputs": [],
   "source": [
    "df=df[df[\"Total Revenue\"]<=max_range]"
   ]
  },
  {
   "cell_type": "code",
   "execution_count": 8,
   "id": "6fee0604-102c-48cc-8033-087cf9c3d4b6",
   "metadata": {},
   "outputs": [
    {
     "data": {
      "image/png": "[encoded data removed]",
      "text/plain": [
       "<Figure size 500x500 with 1 Axes>"
      ]
     },
     "metadata": {},
     "output_type": "display_data"
    }
   ],
   "source": [
    "sns.displot(df[\"Total Revenue\"])\n",
    "plt.show()"
   ]
  },
  {
   "cell_type": "code",
   "execution_count": 9,
   "id": "be3d8a5f-822e-4912-8bc8-3104cb099faa",
   "metadata": {},
   "outputs": [],
   "source": [
    "# so this is non normal distribution data\n",
    "\n",
    "from sklearn.preprocessing import FunctionTransformer\n",
    "ft=FunctionTransformer(func=np.log1p)"
   ]
  },
  {
   "cell_type": "code",
   "execution_count": null,
   "id": "dd72b29a-a58d-46a5-a040-ccd64d288525",
   "metadata": {},
   "outputs": [],
   "source": []
  }
 ],
 "metadata": {
  "kernelspec": {
   "display_name": "Python 3 (ipykernel)",
   "language": "python",
   "name": "python3"
  },
  "language_info": {
   "codemirror_mode": {
    "name": "ipython",
    "version": 3
   },
   "file_extension": ".py",
   "mimetype": "text/x-python",
   "name": "python",
   "nbconvert_exporter": "python",
   "pygments_lexer": "ipython3",
   "version": "3.11.0"
  }
 },
 "nbformat": 4,
 "nbformat_minor": 5
}
