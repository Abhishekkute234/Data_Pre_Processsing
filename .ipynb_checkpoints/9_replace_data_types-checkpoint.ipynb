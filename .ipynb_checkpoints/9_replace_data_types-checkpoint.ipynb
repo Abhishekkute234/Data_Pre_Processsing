{
 "cells": [
  {
   "cell_type": "markdown",
   "id": "be48888a-6bd8-4367-9724-2a790b7b15f1",
   "metadata": {},
   "source": [
    "# Data type Transformation"
   ]
  },
  {
   "cell_type": "code",
   "execution_count": null,
   "id": "0f036343-cede-4a83-ab76-6d43a7ae1f8f",
   "metadata": {},
   "outputs": [],
   "source": []
  }
 ],
 "metadata": {
  "kernelspec": {
   "display_name": "Python 3 (ipykernel)",
   "language": "python",
   "name": "python3"
  },
  "language_info": {
   "codemirror_mode": {
    "name": "ipython",
    "version": 3
   },
   "file_extension": ".py",
   "mimetype": "text/x-python",
   "name": "python",
   "nbconvert_exporter": "python",
   "pygments_lexer": "ipython3",
   "version": "3.11.0"
  }
 },
 "nbformat": 4,
 "nbformat_minor": 5
}
